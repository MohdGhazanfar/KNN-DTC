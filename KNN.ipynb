{
 "cells": [
  {
   "cell_type": "markdown",
   "metadata": {},
   "source": [
    "# Supervised Learning : K- Nearest Neighbor (KNN)"
   ]
  },
  {
   "attachments": {},
   "cell_type": "markdown",
   "metadata": {},
   "source": [
    "# Developing the KNN algorithm from scratch without relying on libraries:"
   ]
  },
  {
   "cell_type": "code",
   "execution_count": 32,
   "metadata": {},
   "outputs": [],
   "source": [
    "# Data manipulation imports\n",
    "import numpy as np\n",
    "import pandas as pd\n",
    "\n",
    "# Visualization imports\n",
    "import matplotlib.pyplot as plt\n",
    "import seaborn as sns\n",
    "%matplotlib inline\n",
    "\n",
    "# Modeling imports\n",
    "from sklearn.model_selection import train_test_split\n",
    "from collections import Counter\n",
    "from sklearn.neighbors import KNeighborsClassifier\n",
    "from sklearn.metrics import accuracy_score, ConfusionMatrixDisplay, confusion_matrix, classification_report\n",
    "\n",
    "class KNN:\n",
    "\n",
    "    def __init__(self, k):\n",
    "        self.k=k\n",
    "      \n",
    "\n",
    "    def fit(self, X_train, X_test, y_train, y_test ):\n",
    "        \n",
    "\n",
    "        self.X_train = X_train\n",
    "        self.y_train = y_train\n",
    "        self.X_test = X_test\n",
    "        self.y_test = y_test\n",
    "             \n",
    "        \n",
    "    def predict(self):\n",
    "        predictedLabels=[]\n",
    "       \n",
    "        for rec_test, recLabel_test in zip(self.X_test.itertuples(), self.y_test.items()): #to iterate over multiple iterables using zip \n",
    "           \n",
    "            distance=[] \n",
    "            for rec_train, recLabel_train in zip(self.X_train.itertuples(), self.y_train.items()):\n",
    "               \n",
    "                dis = np.sqrt((rec_test[1] - rec_train[1])**2 + (rec_test[2]  - rec_train[2])**2 + (rec_test[3]  - rec_train[3])**2 + (rec_test[4]  - rec_train[4])**2)\n",
    "                distance.append((dis, rec_test.Index, rec_train.Index, recLabel_train[1]))\n",
    "                distance.sort(key=lambda x: x[0])\n",
    "                k_nearestNeigh = distance[:int(self.k)] \n",
    "                \n",
    "            counts = Counter([t[3] for t in k_nearestNeigh]) # Count the frequency of each element in the array\n",
    "            most_common_label = counts.most_common(1)[0][0] # Get the most common element\n",
    "            predictedLabels.append(most_common_label)\n",
    "\n",
    "        self.predictedLabels=predictedLabels\n",
    "                \n",
    "        \n",
    "    def accuracyCheck(self,setTest_size):\n",
    "        correct=0\n",
    "        for predictedLabel, recLabel_test in zip(self.predictedLabels, self.y_test.items()):\n",
    "            if (predictedLabel==recLabel_test[1]):\n",
    "                correct+=1\n",
    "        accuracy=correct/setTest_size * 100 #test_size=10\n",
    "        \n",
    "        return accuracy\n",
    "\n",
    "        "
   ]
  },
  {
   "attachments": {},
   "cell_type": "markdown",
   "metadata": {},
   "source": [
    "Utilizing the fruit_data_with_colors.csv dataset.\n",
    "\n",
    "Reading and loading the data into the program.\n",
    "\n",
    "Prepare the data by eliminating any features that contain text or categorical values. \n",
    "\n",
    "Address missing values by replacing them with the mean value of each    column, if necessary.\n"
   ]
  },
  {
   "cell_type": "code",
   "execution_count": 46,
   "metadata": {},
   "outputs": [],
   "source": [
    "\n",
    "path = \"fruit_data_with_colors _1_.csv\"\n",
    "data = pd.read_csv(path) #assumes data has header\n",
    "df=pd.DataFrame(data)\n",
    "df = df.select_dtypes(exclude=['object']) #excluding str dt columns\n",
    "df=df.fillna(df.mean()) #handling missing values using mean\n",
    "X = df[['mass',\t'width', 'height', 'color_score']] #features\n",
    "y = df['fruit_label'] #target class\n",
    "#totalRecords: 60\n",
    "setTrain_size=50\n",
    "setTest_size=10\n",
    "accuracyArr=[]"
   ]
  },
  {
   "attachments": {},
   "cell_type": "markdown",
   "metadata": {},
   "source": [
    "Dividing the data into training and testing sets, with the first 50 rows being used for training and the remaining 10 rows being used for testing."
   ]
  },
  {
   "cell_type": "code",
   "execution_count": 47,
   "metadata": {},
   "outputs": [],
   "source": [
    "X_train, X_test, y_train, y_test = train_test_split(X, y, train_size=setTrain_size, test_size=setTest_size, random_state=80)\n",
    "k=np.linspace(1,10)\n",
    "k = np.round(k).astype(int)  # Round each value to the nearest integer and convert to integer data type"
   ]
  },
  {
   "cell_type": "code",
   "execution_count": 48,
   "metadata": {},
   "outputs": [
    {
     "data": {
      "text/html": [
       "<div>\n",
       "<style scoped>\n",
       "    .dataframe tbody tr th:only-of-type {\n",
       "        vertical-align: middle;\n",
       "    }\n",
       "\n",
       "    .dataframe tbody tr th {\n",
       "        vertical-align: top;\n",
       "    }\n",
       "\n",
       "    .dataframe thead th {\n",
       "        text-align: right;\n",
       "    }\n",
       "</style>\n",
       "<table border=\"1\" class=\"dataframe\">\n",
       "  <thead>\n",
       "    <tr style=\"text-align: right;\">\n",
       "      <th></th>\n",
       "      <th>fruit_label</th>\n",
       "      <th>mass</th>\n",
       "      <th>width</th>\n",
       "      <th>height</th>\n",
       "      <th>color_score</th>\n",
       "    </tr>\n",
       "  </thead>\n",
       "  <tbody>\n",
       "    <tr>\n",
       "      <th>0</th>\n",
       "      <td>1</td>\n",
       "      <td>192.0</td>\n",
       "      <td>8.4</td>\n",
       "      <td>7.3</td>\n",
       "      <td>0.55</td>\n",
       "    </tr>\n",
       "    <tr>\n",
       "      <th>1</th>\n",
       "      <td>1</td>\n",
       "      <td>180.0</td>\n",
       "      <td>8.0</td>\n",
       "      <td>6.8</td>\n",
       "      <td>0.59</td>\n",
       "    </tr>\n",
       "    <tr>\n",
       "      <th>2</th>\n",
       "      <td>1</td>\n",
       "      <td>176.0</td>\n",
       "      <td>7.4</td>\n",
       "      <td>7.2</td>\n",
       "      <td>0.60</td>\n",
       "    </tr>\n",
       "    <tr>\n",
       "      <th>3</th>\n",
       "      <td>2</td>\n",
       "      <td>86.0</td>\n",
       "      <td>6.2</td>\n",
       "      <td>4.7</td>\n",
       "      <td>0.80</td>\n",
       "    </tr>\n",
       "    <tr>\n",
       "      <th>4</th>\n",
       "      <td>2</td>\n",
       "      <td>84.0</td>\n",
       "      <td>6.0</td>\n",
       "      <td>4.6</td>\n",
       "      <td>0.79</td>\n",
       "    </tr>\n",
       "  </tbody>\n",
       "</table>\n",
       "</div>"
      ],
      "text/plain": [
       "   fruit_label   mass  width  height  color_score\n",
       "0            1  192.0    8.4     7.3         0.55\n",
       "1            1  180.0    8.0     6.8         0.59\n",
       "2            1  176.0    7.4     7.2         0.60\n",
       "3            2   86.0    6.2     4.7         0.80\n",
       "4            2   84.0    6.0     4.6         0.79"
      ]
     },
     "execution_count": 48,
     "metadata": {},
     "output_type": "execute_result"
    }
   ],
   "source": [
    "df.head()"
   ]
  },
  {
   "cell_type": "code",
   "execution_count": 49,
   "metadata": {},
   "outputs": [
    {
     "data": {
      "text/html": [
       "<div>\n",
       "<style scoped>\n",
       "    .dataframe tbody tr th:only-of-type {\n",
       "        vertical-align: middle;\n",
       "    }\n",
       "\n",
       "    .dataframe tbody tr th {\n",
       "        vertical-align: top;\n",
       "    }\n",
       "\n",
       "    .dataframe thead th {\n",
       "        text-align: right;\n",
       "    }\n",
       "</style>\n",
       "<table border=\"1\" class=\"dataframe\">\n",
       "  <thead>\n",
       "    <tr style=\"text-align: right;\">\n",
       "      <th></th>\n",
       "      <th>fruit_label</th>\n",
       "      <th>mass</th>\n",
       "      <th>width</th>\n",
       "      <th>height</th>\n",
       "      <th>color_score</th>\n",
       "    </tr>\n",
       "  </thead>\n",
       "  <tbody>\n",
       "    <tr>\n",
       "      <th>count</th>\n",
       "      <td>60.000000</td>\n",
       "      <td>60.000000</td>\n",
       "      <td>60.000000</td>\n",
       "      <td>60.000000</td>\n",
       "      <td>60.000000</td>\n",
       "    </tr>\n",
       "    <tr>\n",
       "      <th>mean</th>\n",
       "      <td>2.916667</td>\n",
       "      <td>762.039216</td>\n",
       "      <td>7.048333</td>\n",
       "      <td>7.711765</td>\n",
       "      <td>0.748167</td>\n",
       "    </tr>\n",
       "    <tr>\n",
       "      <th>std</th>\n",
       "      <td>1.139308</td>\n",
       "      <td>3846.169893</td>\n",
       "      <td>0.829844</td>\n",
       "      <td>1.337801</td>\n",
       "      <td>0.070555</td>\n",
       "    </tr>\n",
       "    <tr>\n",
       "      <th>min</th>\n",
       "      <td>1.000000</td>\n",
       "      <td>76.000000</td>\n",
       "      <td>5.800000</td>\n",
       "      <td>4.000000</td>\n",
       "      <td>0.550000</td>\n",
       "    </tr>\n",
       "    <tr>\n",
       "      <th>25%</th>\n",
       "      <td>2.000000</td>\n",
       "      <td>141.500000</td>\n",
       "      <td>6.275000</td>\n",
       "      <td>7.300000</td>\n",
       "      <td>0.717500</td>\n",
       "    </tr>\n",
       "    <tr>\n",
       "      <th>50%</th>\n",
       "      <td>3.000000</td>\n",
       "      <td>165.000000</td>\n",
       "      <td>7.200000</td>\n",
       "      <td>7.711765</td>\n",
       "      <td>0.730000</td>\n",
       "    </tr>\n",
       "    <tr>\n",
       "      <th>75%</th>\n",
       "      <td>4.000000</td>\n",
       "      <td>205.500000</td>\n",
       "      <td>7.325000</td>\n",
       "      <td>8.125000</td>\n",
       "      <td>0.790000</td>\n",
       "    </tr>\n",
       "    <tr>\n",
       "      <th>max</th>\n",
       "      <td>4.000000</td>\n",
       "      <td>30000.000000</td>\n",
       "      <td>9.600000</td>\n",
       "      <td>10.500000</td>\n",
       "      <td>0.930000</td>\n",
       "    </tr>\n",
       "  </tbody>\n",
       "</table>\n",
       "</div>"
      ],
      "text/plain": [
       "       fruit_label          mass      width     height  color_score\n",
       "count    60.000000     60.000000  60.000000  60.000000    60.000000\n",
       "mean      2.916667    762.039216   7.048333   7.711765     0.748167\n",
       "std       1.139308   3846.169893   0.829844   1.337801     0.070555\n",
       "min       1.000000     76.000000   5.800000   4.000000     0.550000\n",
       "25%       2.000000    141.500000   6.275000   7.300000     0.717500\n",
       "50%       3.000000    165.000000   7.200000   7.711765     0.730000\n",
       "75%       4.000000    205.500000   7.325000   8.125000     0.790000\n",
       "max       4.000000  30000.000000   9.600000  10.500000     0.930000"
      ]
     },
     "execution_count": 49,
     "metadata": {},
     "output_type": "execute_result"
    }
   ],
   "source": [
    "df.describe()"
   ]
  },
  {
   "cell_type": "code",
   "execution_count": 50,
   "metadata": {},
   "outputs": [
    {
     "name": "stdout",
     "output_type": "stream",
     "text": [
      "<class 'pandas.core.frame.DataFrame'>\n",
      "RangeIndex: 60 entries, 0 to 59\n",
      "Data columns (total 5 columns):\n",
      " #   Column       Non-Null Count  Dtype  \n",
      "---  ------       --------------  -----  \n",
      " 0   fruit_label  60 non-null     int64  \n",
      " 1   mass         60 non-null     float64\n",
      " 2   width        60 non-null     float64\n",
      " 3   height       60 non-null     float64\n",
      " 4   color_score  60 non-null     float64\n",
      "dtypes: float64(4), int64(1)\n",
      "memory usage: 2.5 KB\n"
     ]
    }
   ],
   "source": [
    "df.info()"
   ]
  },
  {
   "attachments": {},
   "cell_type": "markdown",
   "metadata": {},
   "source": [
    "Applying the coded model for different values of K (ranging from 1 to 10) and examine the results."
   ]
  },
  {
   "cell_type": "code",
   "execution_count": 51,
   "metadata": {},
   "outputs": [],
   "source": [
    "#KNN algo. coded from scratch\n",
    "for i in k:\n",
    "    k1=KNN(i)\n",
    "    k1.fit(X_train, X_test, y_train, y_test )\n",
    "    k1.predict()\n",
    "    accuracy=k1.accuracyCheck(setTest_size )\n",
    "    accuracyArr.append(accuracy)\n",
    "\n",
    "\n"
   ]
  },
  {
   "attachments": {},
   "cell_type": "markdown",
   "metadata": {},
   "source": [
    "Plotting the accuracy score for each value of K, to visualize the differences."
   ]
  },
  {
   "cell_type": "code",
   "execution_count": 52,
   "metadata": {},
   "outputs": [
    {
     "data": {
      "text/plain": [
       "[<matplotlib.lines.Line2D at 0x7f9e6ccb0e80>]"
      ]
     },
     "execution_count": 52,
     "metadata": {},
     "output_type": "execute_result"
    },
    {
     "data": {
      "image/png": "[encoded data removed]",
      "text/plain": [
       "<Figure size 640x480 with 1 Axes>"
      ]
     },
     "metadata": {},
     "output_type": "display_data"
    }
   ],
   "source": [
    "x = k\n",
    "y = accuracyArr\n",
    "plt.xlabel('k')\n",
    "plt.ylabel('Accuracy (%)')\n",
    "plt.title(' KNN Model: Accuracy vs k')\n",
    "plt.plot(x,y)"
   ]
  },
  {
   "attachments": {},
   "cell_type": "markdown",
   "metadata": {},
   "source": [
    "Applying the KNN model for different values of K (ranging from 1 to 10) and examine the results.\n"
   ]
  },
  {
   "cell_type": "code",
   "execution_count": 53,
   "metadata": {},
   "outputs": [],
   "source": [
    "#Using KNeighborsClassifier()\n",
    "accuracyArray=[]\n",
    "for i in k:\n",
    "    k1=KNeighborsClassifier(i)\n",
    "    k1.fit(X_train, y_train) # Train the model using the fit method\n",
    "    y_pred=k1.predict(X_test) \n",
    "    accuracy=accuracy_score(y_pred, y_test)\n",
    "    accuracyArray.append(accuracy)\n"
   ]
  },
  {
   "attachments": {},
   "cell_type": "markdown",
   "metadata": {},
   "source": [
    "# Plotting the accuracy score for each value of K, to compare with its accuracy with our KNN model we coded from scratch and to visualize the differences"
   ]
  },
  {
   "cell_type": "code",
   "execution_count": 54,
   "metadata": {},
   "outputs": [
    {
     "data": {
      "text/plain": [
       "[<matplotlib.lines.Line2D at 0x7f9e6cd6c430>]"
      ]
     },
     "execution_count": 54,
     "metadata": {},
     "output_type": "execute_result"
    },
    {
     "data": {
      "image/png": "[encoded data removed]",
      "text/plain": [
       "<Figure size 640x480 with 1 Axes>"
      ]
     },
     "metadata": {},
     "output_type": "display_data"
    }
   ],
   "source": [
    "x = k\n",
    "y = accuracyArr\n",
    "plt.xlabel('k')\n",
    "plt.ylabel('Accuracy (%)')\n",
    "plt.title(' KNN Model: Accuracy vs k')\n",
    "plt.plot(x,y)"
   ]
  }
 ],
 "metadata": {
  "kernelspec": {
   "display_name": "Python 3",
   "language": "python",
   "name": "python3"
  },
  "language_info": {
   "codemirror_mode": {
    "name": "ipython",
    "version": 3
   },
   "file_extension": ".py",
   "mimetype": "text/x-python",
   "name": "python",
   "nbconvert_exporter": "python",
   "pygments_lexer": "ipython3",
   "version": "3.10.6"
  },
  "vscode": {
   "interpreter": {
    "hash": "916dbcbb3f70747c44a77c7bcd40155683ae19c65e1c03b4aa3499c5328201f1"
   }
  }
 },
 "nbformat": 4,
 "nbformat_minor": 4
}
